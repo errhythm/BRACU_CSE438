{
 "cells": [
  {
   "cell_type": "markdown",
   "source": [
    "## Importing Libraries"
   ],
   "metadata": {
    "id": "Swx4Lg7NZZ-H",
    "pycharm": {
     "name": "#%% md\n"
    }
   }
  },
  {
   "cell_type": "code",
   "execution_count": 2,
   "metadata": {
    "collapsed": true,
    "pycharm": {
     "name": "#%%\n"
    },
    "id": "SXv7KmGvXhs-"
   },
   "outputs": [],
   "source": [
    "import numpy as np\n",
    "import pandas as pd\n",
    "from sklearn.metrics import confusion_matrix\n",
    "from sklearn.model_selection import train_test_split\n",
    "from sklearn.tree import DecisionTreeClassifier\n",
    "from sklearn.metrics import accuracy_score\n",
    "from sklearn.metrics import classification_report\n",
    "from sklearn import tree\n",
    "import matplotlib.pyplot as plt\n",
    "import seaborn as sns\n",
    "%matplotlib inline"
   ]
  },
  {
   "cell_type": "markdown",
   "source": [
    "## Import Data from Excel Sheet"
   ],
   "metadata": {
    "id": "qL1EZndpZeV9",
    "pycharm": {
     "name": "#%% md\n"
    }
   }
  },
  {
   "cell_type": "code",
   "source": [
    "file_name =  \"Dataset.xls\"\n",
    "sheet =  'Heart Disease 1'\n",
    "\n",
    "df = pd.read_excel(io=file_name, sheet_name=sheet)\n",
    "df=df.head(100) #Select first 100 rows"
   ],
   "metadata": {
    "id": "yU-c_h4CYzur",
    "pycharm": {
     "name": "#%%\n"
    }
   },
   "execution_count": 3,
   "outputs": []
  },
  {
   "cell_type": "markdown",
   "source": [
    "# Data Processing"
   ],
   "metadata": {
    "collapsed": false,
    "pycharm": {
     "name": "#%% md\n"
    }
   }
  },
  {
   "cell_type": "markdown",
   "source": [
    "## Select the given attributes"
   ],
   "metadata": {
    "collapsed": false,
    "pycharm": {
     "name": "#%% md\n"
    }
   }
  },
  {
   "cell_type": "code",
   "execution_count": 4,
   "outputs": [
    {
     "data": {
      "text/plain": "      BMI Smoking  PhysicalHealth   Race  AgeCategory\n0   16.60     Yes               3  White        55-59\n1   20.34      No               0  White  80 or older\n2   26.58     Yes              20  White        65-69\n3   24.21      No               0  White        75-79\n4   23.71      No              28  White        40-44\n..    ...     ...             ...    ...          ...\n95  19.49      No               0  White        45-49\n96  24.02      No               0  White        70-74\n97  28.35     Yes              20  White        65-69\n98  24.37      No               0  White        55-59\n99  19.47     Yes               0  White        65-69\n\n[100 rows x 5 columns]",
      "text/html": "<div>\n<style scoped>\n    .dataframe tbody tr th:only-of-type {\n        vertical-align: middle;\n    }\n\n    .dataframe tbody tr th {\n        vertical-align: top;\n    }\n\n    .dataframe thead th {\n        text-align: right;\n    }\n</style>\n<table border=\"1\" class=\"dataframe\">\n  <thead>\n    <tr style=\"text-align: right;\">\n      <th></th>\n      <th>BMI</th>\n      <th>Smoking</th>\n      <th>PhysicalHealth</th>\n      <th>Race</th>\n      <th>AgeCategory</th>\n    </tr>\n  </thead>\n  <tbody>\n    <tr>\n      <th>0</th>\n      <td>16.60</td>\n      <td>Yes</td>\n      <td>3</td>\n      <td>White</td>\n      <td>55-59</td>\n    </tr>\n    <tr>\n      <th>1</th>\n      <td>20.34</td>\n      <td>No</td>\n      <td>0</td>\n      <td>White</td>\n      <td>80 or older</td>\n    </tr>\n    <tr>\n      <th>2</th>\n      <td>26.58</td>\n      <td>Yes</td>\n      <td>20</td>\n      <td>White</td>\n      <td>65-69</td>\n    </tr>\n    <tr>\n      <th>3</th>\n      <td>24.21</td>\n      <td>No</td>\n      <td>0</td>\n      <td>White</td>\n      <td>75-79</td>\n    </tr>\n    <tr>\n      <th>4</th>\n      <td>23.71</td>\n      <td>No</td>\n      <td>28</td>\n      <td>White</td>\n      <td>40-44</td>\n    </tr>\n    <tr>\n      <th>...</th>\n      <td>...</td>\n      <td>...</td>\n      <td>...</td>\n      <td>...</td>\n      <td>...</td>\n    </tr>\n    <tr>\n      <th>95</th>\n      <td>19.49</td>\n      <td>No</td>\n      <td>0</td>\n      <td>White</td>\n      <td>45-49</td>\n    </tr>\n    <tr>\n      <th>96</th>\n      <td>24.02</td>\n      <td>No</td>\n      <td>0</td>\n      <td>White</td>\n      <td>70-74</td>\n    </tr>\n    <tr>\n      <th>97</th>\n      <td>28.35</td>\n      <td>Yes</td>\n      <td>20</td>\n      <td>White</td>\n      <td>65-69</td>\n    </tr>\n    <tr>\n      <th>98</th>\n      <td>24.37</td>\n      <td>No</td>\n      <td>0</td>\n      <td>White</td>\n      <td>55-59</td>\n    </tr>\n    <tr>\n      <th>99</th>\n      <td>19.47</td>\n      <td>Yes</td>\n      <td>0</td>\n      <td>White</td>\n      <td>65-69</td>\n    </tr>\n  </tbody>\n</table>\n<p>100 rows × 5 columns</p>\n</div>"
     },
     "execution_count": 4,
     "metadata": {},
     "output_type": "execute_result"
    }
   ],
   "source": [
    "#BMI, Smoking, PhysicalHealth, Race, Age\n",
    "df = df[['BMI', 'Smoking', 'PhysicalHealth', 'Race', 'AgeCategory']]\n",
    "\n",
    "df"
   ],
   "metadata": {
    "collapsed": false,
    "pycharm": {
     "name": "#%%\n"
    }
   }
  },
  {
   "cell_type": "markdown",
   "source": [
    "## Check if there is any column with \"nan\" values"
   ],
   "metadata": {
    "collapsed": false,
    "pycharm": {
     "name": "#%% md\n"
    }
   }
  },
  {
   "cell_type": "code",
   "execution_count": 5,
   "outputs": [
    {
     "data": {
      "text/plain": "BMI               False\nSmoking           False\nPhysicalHealth    False\nRace              False\nAgeCategory       False\ndtype: bool"
     },
     "execution_count": 5,
     "metadata": {},
     "output_type": "execute_result"
    }
   ],
   "source": [
    "df.isnull().any()"
   ],
   "metadata": {
    "collapsed": false,
    "pycharm": {
     "name": "#%%\n"
    }
   }
  },
  {
   "cell_type": "markdown",
   "source": [
    "## Change the intervals to midpoint values"
   ],
   "metadata": {
    "collapsed": false,
    "pycharm": {
     "name": "#%% md\n"
    }
   }
  },
  {
   "cell_type": "code",
   "execution_count": 6,
   "outputs": [
    {
     "data": {
      "text/plain": "      BMI Smoking  PhysicalHealth   Race  AgeCategory\n0   16.60     Yes               3  White           57\n1   20.34      No               0  White           85\n2   26.58     Yes              20  White           67\n3   24.21      No               0  White           77\n4   23.71      No              28  White           42\n..    ...     ...             ...    ...          ...\n95  19.49      No               0  White           47\n96  24.02      No               0  White           72\n97  28.35     Yes              20  White           67\n98  24.37      No               0  White           57\n99  19.47     Yes               0  White           67\n\n[100 rows x 5 columns]",
      "text/html": "<div>\n<style scoped>\n    .dataframe tbody tr th:only-of-type {\n        vertical-align: middle;\n    }\n\n    .dataframe tbody tr th {\n        vertical-align: top;\n    }\n\n    .dataframe thead th {\n        text-align: right;\n    }\n</style>\n<table border=\"1\" class=\"dataframe\">\n  <thead>\n    <tr style=\"text-align: right;\">\n      <th></th>\n      <th>BMI</th>\n      <th>Smoking</th>\n      <th>PhysicalHealth</th>\n      <th>Race</th>\n      <th>AgeCategory</th>\n    </tr>\n  </thead>\n  <tbody>\n    <tr>\n      <th>0</th>\n      <td>16.60</td>\n      <td>Yes</td>\n      <td>3</td>\n      <td>White</td>\n      <td>57</td>\n    </tr>\n    <tr>\n      <th>1</th>\n      <td>20.34</td>\n      <td>No</td>\n      <td>0</td>\n      <td>White</td>\n      <td>85</td>\n    </tr>\n    <tr>\n      <th>2</th>\n      <td>26.58</td>\n      <td>Yes</td>\n      <td>20</td>\n      <td>White</td>\n      <td>67</td>\n    </tr>\n    <tr>\n      <th>3</th>\n      <td>24.21</td>\n      <td>No</td>\n      <td>0</td>\n      <td>White</td>\n      <td>77</td>\n    </tr>\n    <tr>\n      <th>4</th>\n      <td>23.71</td>\n      <td>No</td>\n      <td>28</td>\n      <td>White</td>\n      <td>42</td>\n    </tr>\n    <tr>\n      <th>...</th>\n      <td>...</td>\n      <td>...</td>\n      <td>...</td>\n      <td>...</td>\n      <td>...</td>\n    </tr>\n    <tr>\n      <th>95</th>\n      <td>19.49</td>\n      <td>No</td>\n      <td>0</td>\n      <td>White</td>\n      <td>47</td>\n    </tr>\n    <tr>\n      <th>96</th>\n      <td>24.02</td>\n      <td>No</td>\n      <td>0</td>\n      <td>White</td>\n      <td>72</td>\n    </tr>\n    <tr>\n      <th>97</th>\n      <td>28.35</td>\n      <td>Yes</td>\n      <td>20</td>\n      <td>White</td>\n      <td>67</td>\n    </tr>\n    <tr>\n      <th>98</th>\n      <td>24.37</td>\n      <td>No</td>\n      <td>0</td>\n      <td>White</td>\n      <td>57</td>\n    </tr>\n    <tr>\n      <th>99</th>\n      <td>19.47</td>\n      <td>Yes</td>\n      <td>0</td>\n      <td>White</td>\n      <td>67</td>\n    </tr>\n  </tbody>\n</table>\n<p>100 rows × 5 columns</p>\n</div>"
     },
     "execution_count": 6,
     "metadata": {},
     "output_type": "execute_result"
    }
   ],
   "source": [
    "for i in df['AgeCategory']:\n",
    "    if i == '18-24':\n",
    "        df['AgeCategory'] = df['AgeCategory'].replace(['18-24'], 21)\n",
    "    elif i == '25-29':\n",
    "        df['AgeCategory'] = df['AgeCategory'].replace(['25-29'], 27)\n",
    "    elif i == '30-34':\n",
    "        df['AgeCategory'] = df['AgeCategory'].replace(['30-34'], 32)\n",
    "    elif i == '35-39':\n",
    "        df['AgeCategory'] = df['AgeCategory'].replace(['35-39'], 37)\n",
    "    elif i == '40-44':\n",
    "        df['AgeCategory'] = df['AgeCategory'].replace(['40-44'], 42)\n",
    "    elif i == '45-49':\n",
    "        df['AgeCategory'] = df['AgeCategory'].replace(['45-49'], 47)\n",
    "    elif i == '50-54':\n",
    "        df['AgeCategory'] = df['AgeCategory'].replace(['50-54'], 52)\n",
    "    elif i == '55-59':\n",
    "        df['AgeCategory'] = df['AgeCategory'].replace(['55-59'], 57)\n",
    "    elif i == '60-64':\n",
    "        df['AgeCategory'] = df['AgeCategory'].replace(['60-64'], 62)\n",
    "    elif i == '65-69':\n",
    "        df['AgeCategory'] = df['AgeCategory'].replace(['65-69'], 67)\n",
    "    elif i == '70-74':\n",
    "        df['AgeCategory'] = df['AgeCategory'].replace(['70-74'], 72)\n",
    "    elif i == '75-79':\n",
    "        df['AgeCategory'] = df['AgeCategory'].replace(['75-79'], 77)\n",
    "    elif i == '80 or older':\n",
    "        df['AgeCategory'] = df['AgeCategory'].replace(['80 or older'], 85)\n",
    "\n",
    "\n",
    "df"
   ],
   "metadata": {
    "collapsed": false,
    "pycharm": {
     "name": "#%%\n"
    }
   }
  },
  {
   "cell_type": "markdown",
   "source": [
    "## Change string to Int/Float"
   ],
   "metadata": {
    "collapsed": false,
    "pycharm": {
     "name": "#%% md\n"
    }
   }
  },
  {
   "cell_type": "code",
   "execution_count": 10,
   "outputs": [],
   "source": [
    "for i in df['Smoking']:\n",
    "    if i == 'Yes':\n",
    "        df['Smoking'] = df['Smoking'].replace(['Yes'], int(1))\n",
    "    elif i == 'No':\n",
    "        df['Smoking'] = df['Smoking'].replace(['No'], int(0))\n",
    "for i in df['Race']:\n",
    "    if i == 'American Indian/Alaskan Native':\n",
    "        df['Race'] = df['Race'].replace(['American Indian/Alaskan Native'], int(0))\n",
    "    elif i == 'Asian':\n",
    "        df['Race'] = df['Race'].replace(['Asian'], int(1))\n",
    "    elif i == 'Black':\n",
    "        df['Race'] = df['Race'].replace(['Black'], int(2))\n",
    "    elif i == 'Hispanic':\n",
    "        df['Race'] = df['Race'].replace(['Hispanic'], int(3))\n",
    "    elif i == 'White':\n",
    "        df['Race'] = df['Race'].replace(['White'], int(4))\n",
    "    elif i == 'Other':\n",
    "        df['Race'] = df['Race'].replace(['Other'], int(5))"
   ],
   "metadata": {
    "collapsed": false,
    "pycharm": {
     "name": "#%%\n"
    }
   }
  },
  {
   "cell_type": "markdown",
   "source": [
    "## Exploratory Data Analysis"
   ],
   "metadata": {
    "collapsed": false,
    "pycharm": {
     "name": "#%% md\n"
    }
   }
  },
  {
   "cell_type": "markdown",
   "source": [],
   "metadata": {
    "collapsed": false,
    "pycharm": {
     "name": "#%% md\n"
    }
   }
  }
 ],
 "metadata": {
  "kernelspec": {
   "display_name": "Python 3",
   "language": "python",
   "name": "python3"
  },
  "language_info": {
   "codemirror_mode": {
    "name": "ipython",
    "version": 2
   },
   "file_extension": ".py",
   "mimetype": "text/x-python",
   "name": "python",
   "nbconvert_exporter": "python",
   "pygments_lexer": "ipython2",
   "version": "2.7.6"
  },
  "colab": {
   "name": "Decision Tree.ipynb",
   "provenance": []
  }
 },
 "nbformat": 4,
 "nbformat_minor": 0
}